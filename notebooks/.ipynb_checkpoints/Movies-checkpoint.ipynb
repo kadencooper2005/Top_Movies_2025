{
 "cells": [
  {
   "cell_type": "code",
   "execution_count": 37,
   "id": "b2fea37d-61b6-4eeb-9852-c4e502fe06ed",
   "metadata": {},
   "outputs": [
    {
     "name": "stdout",
     "output_type": "stream",
     "text": [
      "Index(['Title', 'Genre', 'Rating/Score'], dtype='object')\n"
     ]
    }
   ],
   "source": [
    "import pandas as pd\n",
    "import plotly.io as pio\n",
    "import plotly.express as px\n",
    "\n",
    "data = pd.read_csv(\"movies_with_genres.csv\")\n",
    "data.head()\n",
    "data.tail()\n",
    "print(data.columns)"
   ]
  },
  {
   "cell_type": "code",
   "execution_count": 38,
   "id": "85dc06fb-576d-4ae4-87cd-d652a04d6b6e",
   "metadata": {},
   "outputs": [],
   "source": [
    "\n",
    "# --- Clean Title ---\n",
    "data['Title'] = data['Title'].astype(str).str.replace(',', '', regex=False).str.strip()\n",
    "\n",
    "# --- Clean & Split Genre ---\n",
    "# Remove spaces, then split on '/'\n",
    "data['Genre'] = (\n",
    "    data['Genre']\n",
    "    .astype(str)\n",
    "    .str.replace(',', '', regex=False)\n",
    "    .str.strip()\n",
    "    .str.split('/')\n",
    ")\n",
    "\n",
    "# Strip whitespace and standardize casing (e.g. \"horror\" → \"Horror\")\n",
    "data['Genre'] = data['Genre'].apply(\n",
    "    lambda genres: [g.strip().capitalize() for g in genres] if isinstance(genres, list) else genres\n",
    ")\n",
    "\n",
    "# Explode list → one row per genre\n",
    "data = data.explode('Genre')\n",
    "\n",
    "# --- Clean Rating/Score ---\n",
    "data['Rating/Score'] = (\n",
    "    data['Rating/Score']\n",
    "    .astype(str)\n",
    "    .str.replace(',', '', regex=False)\n",
    "    .str.replace('%', '', regex=False)\n",
    ")\n",
    "data['Rating/Score'] = pd.to_numeric(data['Rating/Score'], errors='coerce').fillna(0).astype(int)\n",
    "\n",
    "# (Optional) Reset index and save cleaned version\n",
    "data = data.reset_index(drop=True)\n",
    "data.to_csv(\"cleaned_movies.csv\", index=False)\n",
    "\n"
   ]
  },
  {
   "cell_type": "code",
   "execution_count": null,
   "id": "69a529d6-b8aa-4f83-b8db-3656567e4e6d",
   "metadata": {},
   "outputs": [],
   "source": []
  },
  {
   "cell_type": "code",
   "execution_count": 39,
   "id": "d8a0dc74-bfda-4e05-a518-aaf784ac4744",
   "metadata": {},
   "outputs": [
    {
     "name": "stdout",
     "output_type": "stream",
     "text": [
      "                       Title   Genre  Rating/Score\n",
      "0  ON BECOMING A GUINEA FOWL  Comedy           100\n",
      "1  ON BECOMING A GUINEA FOWL   Drama           100\n",
      "2                     EEPHUS  Comedy           100\n",
      "3                     EEPHUS   Drama           100\n",
      "4                     EEPHUS  Sports           100\n"
     ]
    }
   ],
   "source": [
    "print(data.head())"
   ]
  },
  {
   "cell_type": "code",
   "execution_count": 40,
   "id": "0d8d22f0-12d4-4e0b-aeaa-8a7ee3b3d22f",
   "metadata": {},
   "outputs": [
    {
     "name": "stdout",
     "output_type": "stream",
     "text": [
      "                       Title   Genre  Rating/Score\n",
      "0  ON BECOMING A GUINEA FOWL  Comedy           100\n",
      "1  ON BECOMING A GUINEA FOWL   Drama           100\n",
      "2                     EEPHUS  Comedy           100\n",
      "3                     EEPHUS   Drama           100\n",
      "4                     EEPHUS  Sports           100\n"
     ]
    }
   ],
   "source": [
    "print(data.head())"
   ]
  },
  {
   "cell_type": "code",
   "execution_count": 43,
   "id": "85eda934-fae4-4773-9ca7-f553357e3249",
   "metadata": {},
   "outputs": [
    {
     "name": "stdout",
     "output_type": "stream",
     "text": [
      "                         Title      Genre  Rating/Score\n",
      "0    ON BECOMING A GUINEA FOWL     Comedy           100\n",
      "1    ON BECOMING A GUINEA FOWL      Drama           100\n",
      "2                       EEPHUS     Comedy           100\n",
      "3                       EEPHUS      Drama           100\n",
      "4                       EEPHUS     Sports           100\n",
      "..                         ...        ...           ...\n",
      "175               MOUNTAINHEAD     Comedy            74\n",
      "176               MOUNTAINHEAD      Drama            74\n",
      "177          QUEEN OF THE RING  Biography            73\n",
      "178          QUEEN OF THE RING      Drama            73\n",
      "179          QUEEN OF THE RING     Sports            73\n",
      "\n",
      "[180 rows x 3 columns]\n",
      "Title           object\n",
      "Genre           object\n",
      "Rating/Score     int64\n",
      "dtype: object\n"
     ]
    }
   ],
   "source": [
    "print(data)\n",
    "print(data.dtypes)"
   ]
  },
  {
   "cell_type": "code",
   "execution_count": 44,
   "id": "3f76fd62-07b0-4e94-ac77-07c14b1a4fdd",
   "metadata": {},
   "outputs": [
    {
     "name": "stdout",
     "output_type": "stream",
     "text": [
      "Title           object\n",
      "Genre           object\n",
      "Rating/Score     int64\n",
      "dtype: object\n"
     ]
    }
   ],
   "source": [
    "print(data.dtypes)"
   ]
  }
 ],
 "metadata": {
  "kernelspec": {
   "display_name": "Python 3 (ipykernel)",
   "language": "python",
   "name": "python3"
  },
  "language_info": {
   "codemirror_mode": {
    "name": "ipython",
    "version": 3
   },
   "file_extension": ".py",
   "mimetype": "text/x-python",
   "name": "python",
   "nbconvert_exporter": "python",
   "pygments_lexer": "ipython3",
   "version": "3.12.7"
  }
 },
 "nbformat": 4,
 "nbformat_minor": 5
}
